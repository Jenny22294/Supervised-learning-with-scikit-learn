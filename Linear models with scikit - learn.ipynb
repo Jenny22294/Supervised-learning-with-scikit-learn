{
 "cells": [
  {
   "cell_type": "code",
   "execution_count": 23,
   "metadata": {},
   "outputs": [],
   "source": [
    "import pandas as pd\n",
    "import numpy as np\n",
    "import matplotlib.pyplot as plt\n",
    "import IPython\n",
    "import sklearn\n",
    "import mglearn"
   ]
  },
  {
   "cell_type": "markdown",
   "metadata": {},
   "source": [
    "# Linear regression or OLS"
   ]
  },
  {
   "cell_type": "markdown",
   "metadata": {},
   "source": [
    "## First dataset"
   ]
  },
  {
   "cell_type": "code",
   "execution_count": 24,
   "metadata": {},
   "outputs": [],
   "source": [
    "from sklearn.model_selection import train_test_split\n",
    "# If want to call all datasets: x, y = mglearn.datasets.make_forge()"
   ]
  },
  {
   "cell_type": "code",
   "execution_count": 26,
   "metadata": {},
   "outputs": [],
   "source": [
    "from sklearn.linear_model import LinearRegression\n",
    "x, y = mglearn.datasets.make_wave(n_samples = 65)\n",
    "x_train, x_test, y_train, y_test = train_test_split(x, y, random_state = 123)"
   ]
  },
  {
   "cell_type": "code",
   "execution_count": 43,
   "metadata": {},
   "outputs": [
    {
     "data": {
      "text/plain": [
       "array([[-0.80182894],\n",
       "       [ 2.7937922 ]])"
      ]
     },
     "execution_count": 43,
     "metadata": {},
     "output_type": "execute_result"
    }
   ],
   "source": [
    "x_train[1:3]"
   ]
  },
  {
   "cell_type": "code",
   "execution_count": 27,
   "metadata": {},
   "outputs": [],
   "source": [
    "# Model:\n",
    "\n",
    "lr = LinearRegression()"
   ]
  },
  {
   "cell_type": "code",
   "execution_count": 28,
   "metadata": {},
   "outputs": [
    {
     "data": {
      "text/plain": [
       "LinearRegression(copy_X=True, fit_intercept=True, n_jobs=1, normalize=False)"
      ]
     },
     "execution_count": 28,
     "metadata": {},
     "output_type": "execute_result"
    }
   ],
   "source": [
    "lr.fit(x_train, y_train)"
   ]
  },
  {
   "cell_type": "code",
   "execution_count": 29,
   "metadata": {},
   "outputs": [
    {
     "data": {
      "text/plain": [
       "array([0.43540899])"
      ]
     },
     "execution_count": 29,
     "metadata": {},
     "output_type": "execute_result"
    }
   ],
   "source": [
    "lr.coef_"
   ]
  },
  {
   "cell_type": "code",
   "execution_count": 30,
   "metadata": {},
   "outputs": [
    {
     "data": {
      "text/plain": [
       "0.08765281465813521"
      ]
     },
     "execution_count": 30,
     "metadata": {},
     "output_type": "execute_result"
    }
   ],
   "source": [
    "lr.intercept_"
   ]
  },
  {
   "cell_type": "code",
   "execution_count": 31,
   "metadata": {},
   "outputs": [
    {
     "name": "stdout",
     "output_type": "stream",
     "text": [
      "training set score: 0.621281\n"
     ]
    }
   ],
   "source": [
    "print(\"training set score: %f\" % lr.score(x_train, y_train))"
   ]
  },
  {
   "cell_type": "code",
   "execution_count": 32,
   "metadata": {},
   "outputs": [
    {
     "name": "stdout",
     "output_type": "stream",
     "text": [
      "test set score: 0.581093\n"
     ]
    }
   ],
   "source": [
    "print(\"test set score: %f\" % lr.score(x_test, y_test))"
   ]
  },
  {
   "cell_type": "code",
   "execution_count": 39,
   "metadata": {},
   "outputs": [
    {
     "data": {
      "text/plain": [
       "0.6011869999999999"
      ]
     },
     "execution_count": 39,
     "metadata": {},
     "output_type": "execute_result"
    }
   ],
   "source": [
    "(0.621281 + 0.581093)/2"
   ]
  },
  {
   "cell_type": "markdown",
   "metadata": {},
   "source": [
    "An $R^2$ of around 0.6 is not very good, but we can see that the score on training\n",
    "and test set are very close together. This means we are likely underfitting, not overfitting. This is because the data has just only one dimention."
   ]
  },
  {
   "cell_type": "markdown",
   "metadata": {},
   "source": [
    "## Second dataset - higher dimentional "
   ]
  },
  {
   "cell_type": "code",
   "execution_count": 62,
   "metadata": {},
   "outputs": [],
   "source": [
    "x, y = mglearn.datasets.load_extended_boston()"
   ]
  },
  {
   "cell_type": "code",
   "execution_count": 75,
   "metadata": {},
   "outputs": [],
   "source": [
    "x_train, x_test, y_train, y_test = train_test_split(x, y, random_state = 0)"
   ]
  },
  {
   "cell_type": "code",
   "execution_count": 76,
   "metadata": {},
   "outputs": [],
   "source": [
    "lr = LinearRegression().fit(x_train, y_train)"
   ]
  },
  {
   "cell_type": "code",
   "execution_count": 77,
   "metadata": {},
   "outputs": [
    {
     "name": "stdout",
     "output_type": "stream",
     "text": [
      "training set score: 0.952353\n"
     ]
    }
   ],
   "source": [
    "print(\"training set score: %f\" % lr.score(x_train, y_train))"
   ]
  },
  {
   "cell_type": "code",
   "execution_count": 78,
   "metadata": {},
   "outputs": [
    {
     "name": "stdout",
     "output_type": "stream",
     "text": [
      "test set score: 0.605775\n"
     ]
    }
   ],
   "source": [
    "print(\"test set score: %f\" % lr.score(x_test, y_test))"
   ]
  },
  {
   "cell_type": "markdown",
   "metadata": {},
   "source": [
    "That's pretty good now!"
   ]
  },
  {
   "cell_type": "markdown",
   "metadata": {},
   "source": [
    "# Ridge regression"
   ]
  },
  {
   "cell_type": "code",
   "execution_count": 79,
   "metadata": {},
   "outputs": [],
   "source": [
    "from sklearn.linear_model import Ridge\n",
    "\n",
    "ridge = Ridge().fit(x_train, y_train)"
   ]
  },
  {
   "cell_type": "code",
   "execution_count": 80,
   "metadata": {},
   "outputs": [
    {
     "data": {
      "text/plain": [
       "0.8860578560395835"
      ]
     },
     "execution_count": 80,
     "metadata": {},
     "output_type": "execute_result"
    }
   ],
   "source": [
    "ridge.score(x_train, y_train)"
   ]
  },
  {
   "cell_type": "code",
   "execution_count": 81,
   "metadata": {},
   "outputs": [
    {
     "data": {
      "text/plain": [
       "0.7527139600306949"
      ]
     },
     "execution_count": 81,
     "metadata": {},
     "output_type": "execute_result"
    }
   ],
   "source": [
    "ridge.score(x_test, y_test)"
   ]
  },
  {
   "cell_type": "markdown",
   "metadata": {},
   "source": [
    "As you can see, the training set score of Ridge is lower than for LinearRegression, while the test set score is higher.\n",
    "\n",
    "The Ridge model makes a trade-off between the simplicity of the model (near zero\n",
    "coefficients) and its performance on the training set. How much importance the\n",
    "model places on simplicity versus training set performance can be specified by the\n",
    "user, using the alpha parameter. Above, we used the default parameter alpha=1.0.\n",
    "\n",
    "Increasing alpha forces coefficients to move more towards zero, which decreases training set performance,\n",
    "but might help generalization."
   ]
  },
  {
   "cell_type": "code",
   "execution_count": 82,
   "metadata": {},
   "outputs": [],
   "source": [
    "# Increase alpha:\n",
    "\n",
    "ridge10 = Ridge(alpha = 10).fit(x_train, y_train)"
   ]
  },
  {
   "cell_type": "code",
   "execution_count": 83,
   "metadata": {},
   "outputs": [
    {
     "data": {
      "text/plain": [
       "0.7883461511233251"
      ]
     },
     "execution_count": 83,
     "metadata": {},
     "output_type": "execute_result"
    }
   ],
   "source": [
    "ridge10.score(x_train, y_train)"
   ]
  },
  {
   "cell_type": "code",
   "execution_count": 84,
   "metadata": {},
   "outputs": [
    {
     "data": {
      "text/plain": [
       "0.6358967327447731"
      ]
     },
     "execution_count": 84,
     "metadata": {},
     "output_type": "execute_result"
    }
   ],
   "source": [
    "ridge10.score(x_test, y_test)"
   ]
  },
  {
   "cell_type": "code",
   "execution_count": 90,
   "metadata": {},
   "outputs": [
    {
     "name": "stdout",
     "output_type": "stream",
     "text": [
      "training set score: 0.928578\n",
      "test set score: 0.771793\n"
     ]
    }
   ],
   "source": [
    "# Decrease alpha:\n",
    "ridge01 = Ridge(alpha=0.1).fit(x_train, y_train)\n",
    "print(\"training set score: %f\" % ridge01.score(x_train, y_train))\n",
    "print(\"test set score: %f\" % ridge01.score(x_test, y_test))"
   ]
  },
  {
   "cell_type": "markdown",
   "metadata": {},
   "source": [
    "# Linear models for multiclass classification"
   ]
  },
  {
   "cell_type": "markdown",
   "metadata": {},
   "source": [
    "## Simple three-class classification dataset"
   ]
  },
  {
   "cell_type": "code",
   "execution_count": 102,
   "metadata": {},
   "outputs": [],
   "source": [
    "from sklearn.linear_model import LogisticRegression\n",
    "from sklearn.svm import LinearSVC"
   ]
  },
  {
   "cell_type": "code",
   "execution_count": 103,
   "metadata": {},
   "outputs": [],
   "source": [
    "\n",
    "from sklearn.datasets import make_blobs # new dataset"
   ]
  },
  {
   "cell_type": "code",
   "execution_count": 104,
   "metadata": {},
   "outputs": [
    {
     "data": {
      "text/plain": [
       "<matplotlib.collections.PathCollection at 0x20044ff1be0>"
      ]
     },
     "execution_count": 104,
     "metadata": {},
     "output_type": "execute_result"
    },
    {
     "data": {
      "image/png": "[encoded data removed]",
      "text/plain": [
       "<Figure size 432x288 with 1 Axes>"
      ]
     },
     "metadata": {},
     "output_type": "display_data"
    }
   ],
   "source": [
    "x,y = make_blobs(random_state = 42)\n",
    "plt.scatter(x[:, 0], x[:, 1], c = y, s = 60, cmap = mglearn.cm3)"
   ]
  },
  {
   "cell_type": "code",
   "execution_count": 97,
   "metadata": {},
   "outputs": [
    {
     "data": {
      "text/plain": [
       "(array([[ 7.98000928,  1.0261327 ],\n",
       "        [ 0.4685459 , -4.72364443],\n",
       "        [ 5.8981638 ,  0.1016913 ],\n",
       "        [-5.27268847,  6.42000606],\n",
       "        [-1.25905469, -4.12869715],\n",
       "        [ 0.46284527, -4.67067851],\n",
       "        [ 6.46567888, -0.08344605],\n",
       "        [ 6.56769026,  0.75385124],\n",
       "        [ 6.48153641, -0.17585455],\n",
       "        [-0.28794536, -4.21028383],\n",
       "        [ 7.9817049 ,  0.05951067],\n",
       "        [-0.13621652, -2.81952311],\n",
       "        [ 8.18240688,  1.31118677],\n",
       "        [ 8.84384681, -0.47417569],\n",
       "        [-5.65383534,  4.4886497 ],\n",
       "        [ 7.72503557, -0.01534575],\n",
       "        [-1.22326025, -2.62573184],\n",
       "        [ 9.40507419,  1.30737387],\n",
       "        [-6.19883812,  4.63836175],\n",
       "        [-5.29489172,  5.98521747],\n",
       "        [-0.68288144, -0.3441518 ],\n",
       "        [-1.83701513, -4.2875632 ],\n",
       "        [-2.98093654, -3.93292513],\n",
       "        [-6.53526789,  6.68559013],\n",
       "        [ 8.14208112, -0.84378669],\n",
       "        [-1.76136064, -4.37363707],\n",
       "        [-0.37030193, -2.84907779],\n",
       "        [ 8.18203085, -0.66211948],\n",
       "        [ 8.06029899, -0.37664058],\n",
       "        [-6.70754011,  7.29342973],\n",
       "        [-5.51432303,  7.45497509],\n",
       "        [-3.36164916,  4.18028778],\n",
       "        [-5.51717482,  5.78873956],\n",
       "        [-0.62181888, -3.66510787],\n",
       "        [ 7.7666214 ,  1.5345372 ],\n",
       "        [ 8.3939296 , -1.61135029],\n",
       "        [-5.68964061,  5.66000633],\n",
       "        [ 7.31211675,  1.47501776],\n",
       "        [-0.50007547, -4.30205305],\n",
       "        [-6.1903843 ,  5.40344393],\n",
       "        [ 6.67408495, -0.9109361 ],\n",
       "        [-0.30558701, -5.755796  ],\n",
       "        [-2.03362551, -4.72766105],\n",
       "        [ 7.81896693,  0.21776324],\n",
       "        [ 9.3992874 ,  1.63065975],\n",
       "        [ 0.10692095, -5.37130451],\n",
       "        [ 8.68393649, -3.42558878],\n",
       "        [-4.92534519,  7.9090274 ],\n",
       "        [-0.96295382, -3.14074076],\n",
       "        [-7.40908444,  6.41579108],\n",
       "        [-0.99066458, -4.70609102],\n",
       "        [ 1.63165327, -4.18822766],\n",
       "        [ 7.39920768, -1.31243741],\n",
       "        [ 9.51437568, -0.49003834],\n",
       "        [-0.6386858 , -2.36328093],\n",
       "        [-6.30450502,  4.55403419],\n",
       "        [-0.90924979, -2.99120618],\n",
       "        [-0.7231783 , -4.26005529],\n",
       "        [-7.2661725 ,  5.53703317],\n",
       "        [-5.03034959,  6.41008043],\n",
       "        [-0.12361805, -4.1936717 ],\n",
       "        [ 8.21282129, -0.33100486],\n",
       "        [-5.78850017,  6.12548863],\n",
       "        [-1.41924308, -2.68734612],\n",
       "        [-0.13318978, -3.39866673],\n",
       "        [-7.96730424,  4.39485588],\n",
       "        [-6.48967742,  6.57345785],\n",
       "        [ 7.10512855,  1.9275071 ],\n",
       "        [-6.79377797,  4.93944153],\n",
       "        [-6.27487934,  5.88602875],\n",
       "        [-1.03704202, -4.39265528],\n",
       "        [ 6.82546477, -1.82902423],\n",
       "        [-4.80781894,  6.41023564],\n",
       "        [ 7.72633692,  0.94239107],\n",
       "        [ 8.01219417, -2.38411942],\n",
       "        [-0.18096844, -1.83934693],\n",
       "        [-6.12844884,  7.58887726],\n",
       "        [-5.01224031,  5.2395779 ],\n",
       "        [ 0.03841507, -4.48104151],\n",
       "        [ 8.60653294, -1.31919019],\n",
       "        [ 7.22389183,  2.68618357],\n",
       "        [-6.14066775,  5.19920134],\n",
       "        [-0.68031366, -5.3041844 ],\n",
       "        [-5.73682076,  6.55121843],\n",
       "        [ 6.54002296, -1.34251513],\n",
       "        [ 7.60540844,  0.12507691],\n",
       "        [ 7.82482967,  0.15248199],\n",
       "        [-0.51991773, -2.14334549],\n",
       "        [ 7.35070807,  0.31204559],\n",
       "        [-6.03777697,  7.41854863],\n",
       "        [-5.06661064,  6.27176628],\n",
       "        [-4.96890475,  6.53284999],\n",
       "        [-5.35456307,  6.1901654 ],\n",
       "        [-4.04238508,  6.08683281],\n",
       "        [-4.57641651,  6.59656787],\n",
       "        [ 0.39910304, -6.47377679],\n",
       "        [-7.95129769,  6.05741619],\n",
       "        [ 8.35211505, -1.33676222],\n",
       "        [-0.84948572, -3.79686233],\n",
       "        [-0.01714864, -4.46615027]]),\n",
       " array([0, 1, 0, 2, 1, 1, 0, 0, 0, 1, 0, 1, 0, 0, 2, 0, 1, 0, 2, 2, 1, 1,\n",
       "        1, 2, 0, 1, 1, 0, 0, 2, 2, 2, 2, 1, 0, 0, 2, 0, 1, 2, 0, 1, 1, 0,\n",
       "        0, 1, 0, 2, 1, 2, 1, 1, 0, 0, 1, 2, 1, 1, 2, 2, 1, 0, 2, 1, 1, 2,\n",
       "        2, 0, 2, 2, 1, 0, 2, 0, 0, 1, 2, 2, 1, 0, 0, 2, 1, 2, 0, 0, 0, 1,\n",
       "        0, 2, 2, 2, 2, 2, 2, 1, 2, 0, 1, 1]))"
      ]
     },
     "execution_count": 97,
     "metadata": {},
     "output_type": "execute_result"
    }
   ],
   "source": [
    "make_blobs()"
   ]
  },
  {
   "cell_type": "code",
   "execution_count": 105,
   "metadata": {},
   "outputs": [
    {
     "name": "stdout",
     "output_type": "stream",
     "text": [
      "[[-0.17492211  0.23140057]\n",
      " [ 0.47621695 -0.06936581]\n",
      " [-0.18914192 -0.20400599]]\n",
      "[-1.07745601  0.13140434 -0.08605013]\n"
     ]
    }
   ],
   "source": [
    "# Train a LinearSVC classifier on the dataset:\n",
    "\n",
    "linear_svm = LinearSVC().fit(x,y)\n",
    "print(linear_svm.coef_)\n",
    "print(linear_svm.intercept_)"
   ]
  }
 ],
 "metadata": {
  "kernelspec": {
   "display_name": "Python 3",
   "language": "python",
   "name": "python3"
  },
  "language_info": {
   "codemirror_mode": {
    "name": "ipython",
    "version": 3
   },
   "file_extension": ".py",
   "mimetype": "text/x-python",
   "name": "python",
   "nbconvert_exporter": "python",
   "pygments_lexer": "ipython3",
   "version": "3.6.5"
  }
 },
 "nbformat": 4,
 "nbformat_minor": 2
}
